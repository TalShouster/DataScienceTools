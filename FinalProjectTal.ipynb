{
  "metadata": {
    "kernelspec": {
      "name": "python",
      "display_name": "Python (Pyodide)",
      "language": "python"
    },
    "language_info": {
      "codemirror_mode": {
        "name": "python",
        "version": 3
      },
      "file_extension": ".py",
      "mimetype": "text/x-python",
      "name": "python",
      "nbconvert_exporter": "python",
      "pygments_lexer": "ipython3",
      "version": "3.8"
    }
  },
  "nbformat_minor": 5,
  "nbformat": 4,
  "cells": [
    {
      "id": "9558142f-6368-4476-bfaf-6ed75c4ef12f",
      "cell_type": "code",
      "source": "#ex2:",
      "metadata": {
        "trusted": true
      },
      "outputs": [],
      "execution_count": 2
    },
    {
      "id": "074c644f-af8d-4bfd-8dfa-f4e5a2bde3e1",
      "cell_type": "markdown",
      "source": "Notebook title",
      "metadata": {}
    },
    {
      "id": "252780b2-4262-4897-89b8-22913a64634d",
      "cell_type": "code",
      "source": "#ex3:",
      "metadata": {
        "trusted": true
      },
      "outputs": [],
      "execution_count": 3
    },
    {
      "id": "7e9fd9d2-65d7-4586-999a-2680f3d6df9e",
      "cell_type": "markdown",
      "source": "Introduction ",
      "metadata": {}
    },
    {
      "id": "82233f7d-f660-4b66-8cb8-6f242d28923d",
      "cell_type": "code",
      "source": "#ex4:",
      "metadata": {
        "trusted": true
      },
      "outputs": [],
      "execution_count": null
    },
    {
      "id": "857d5211-da8b-4051-838e-2b52d2549bc8",
      "cell_type": "markdown",
      "source": "Python, R, Scala, Java",
      "metadata": {}
    },
    {
      "id": "e5e01d00-7dae-43b0-9e31-829dcaaa67f3",
      "cell_type": "code",
      "source": "#ex5:",
      "metadata": {
        "trusted": true
      },
      "outputs": [],
      "execution_count": null
    },
    {
      "id": "558bc61b-420d-4b69-ad50-3bddcc8a63a1",
      "cell_type": "markdown",
      "source": "Sklearn, TensforFlow, Keras, pyTorch",
      "metadata": {}
    },
    {
      "id": "6eec8bbb-8c38-4010-ad18-f26f70bdbd67",
      "cell_type": "code",
      "source": "#ex6: ",
      "metadata": {
        "trusted": true
      },
      "outputs": [],
      "execution_count": null
    },
    {
      "id": "a7938e71-d50b-4898-ab25-6a5aa50b42ef",
      "cell_type": "markdown",
      "source": "",
      "metadata": {}
    },
    {
      "id": "44187db3-9f3f-4cb3-ac26-5f9db119e53b",
      "cell_type": "code",
      "source": "#ex7: ",
      "metadata": {
        "trusted": true
      },
      "outputs": [],
      "execution_count": 4
    },
    {
      "id": "7d582c19-240f-44f5-8753-cf34b2276aff",
      "cell_type": "markdown",
      "source": "Arithmetic expression examples:",
      "metadata": {}
    },
    {
      "id": "897d5271-c292-4740-8f16-2bd952aaec5a",
      "cell_type": "code",
      "source": "#ex8:",
      "metadata": {
        "trusted": true
      },
      "outputs": [],
      "execution_count": 20
    },
    {
      "id": "322fb533-6fd0-483f-a015-d6e4b10b0e2c",
      "cell_type": "code",
      "source": "\n60*10 ",
      "metadata": {
        "trusted": true
      },
      "outputs": [
        {
          "execution_count": 21,
          "output_type": "execute_result",
          "data": {
            "text/plain": "600"
          },
          "metadata": {}
        }
      ],
      "execution_count": 21
    },
    {
      "id": "396d5dc7-8df3-457d-8824-e1105beda983",
      "cell_type": "code",
      "source": "4 + 5 * 2 ",
      "metadata": {
        "trusted": true
      },
      "outputs": [
        {
          "execution_count": 22,
          "output_type": "execute_result",
          "data": {
            "text/plain": "14"
          },
          "metadata": {}
        }
      ],
      "execution_count": 22
    },
    {
      "id": "fb9b33b9-d3f4-4e76-be09-12d09392f0ef",
      "cell_type": "code",
      "source": "#ex9:",
      "metadata": {
        "trusted": true
      },
      "outputs": [],
      "execution_count": 23
    },
    {
      "id": "1ee42e13-220e-4de2-bdb5-66e7ca15219b",
      "cell_type": "code",
      "source": "min = 60; hours = min/60; hours",
      "metadata": {
        "trusted": true
      },
      "outputs": [
        {
          "execution_count": 24,
          "output_type": "execute_result",
          "data": {
            "text/plain": "1.0"
          },
          "metadata": {}
        }
      ],
      "execution_count": 24
    },
    {
      "id": "d25f6306-16b0-4ff3-9c43-61c5a6086a3e",
      "cell_type": "code",
      "source": "#ex10: ",
      "metadata": {
        "trusted": true
      },
      "outputs": [],
      "execution_count": 25
    },
    {
      "id": "8319799c-8f5d-4da2-8404-416b14a5e309",
      "cell_type": "markdown",
      "source": "Objectives: ",
      "metadata": {}
    },
    {
      "id": "def5b88d-cf8f-4b0a-a99e-72db152bd199",
      "cell_type": "code",
      "source": "#ex11: \n",
      "metadata": {
        "trusted": true
      },
      "outputs": [],
      "execution_count": 26
    },
    {
      "id": "3ccab12f-8ac0-45ca-b91f-44e3402662e7",
      "cell_type": "markdown",
      "source": "Tal Shousterman ",
      "metadata": {}
    },
    {
      "id": "ae775378-940d-4a50-b5a7-e9c11195acf1",
      "cell_type": "code",
      "source": "",
      "metadata": {
        "trusted": true
      },
      "outputs": [],
      "execution_count": null
    },
    {
      "id": "47d06a2c-023d-4bdb-8c49-97fb85d3e252",
      "cell_type": "code",
      "source": "",
      "metadata": {
        "trusted": true,
        "tags": [],
        "editable": true,
        "slideshow": {
          "slide_type": ""
        }
      },
      "outputs": [],
      "execution_count": null
    }
  ]
}